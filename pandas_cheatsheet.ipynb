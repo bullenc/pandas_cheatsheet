{
 "cells": [
  {
   "cell_type": "raw",
   "metadata": {},
   "source": [
    "                       _                           \n",
    "                      | |                          \n",
    " _ __   __ _ _ __   __| | __ _ ___                 \n",
    "| '_ \\ / _` | '_ \\ / _` |/ _` / __|                \n",
    "| |_) | (_| | | | | (_| | (_| \\__ \\                \n",
    "| .__/_\\__,_|_| |_|\\__,_|\\__,_|___/            _   \n",
    "| |  | |              | |     | |             | |  \n",
    "|_|__| |__   ___  __ _| |_ ___| |__   ___  ___| |_ \n",
    " / __| '_ \\ / _ \\/ _` | __/ __| '_ \\ / _ \\/ _ \\ __|\n",
    "| (__| | | |  __/ (_| | |_\\__ \\ | | |  __/  __/ |_ \n",
    " \\___|_| |_|\\___|\\__,_|\\__|___/_| |_|\\___|\\___|\\__|"
   ]
  },
  {
   "cell_type": "markdown",
   "metadata": {},
   "source": [
    "catie bullen\n",
    "ctds | gdc user services\n",
    "january 2023\n",
    "\n",
    "*a quick intro to data wrangling with the python package pandas*\n",
    "\n",
    "great resources on pandas:\n",
    "\n",
    "pandas documentation: https://pandas.pydata.org/docs/\n",
    "\n",
    "python data science handbook: https://jakevdp.github.io/PythonDataScienceHandbook/03.00-introduction-to-pandas.html"
   ]
  },
  {
   "cell_type": "markdown",
   "metadata": {},
   "source": [
    "# Import pandas into a script"
   ]
  },
  {
   "cell_type": "code",
   "execution_count": null,
   "metadata": {},
   "outputs": [],
   "source": [
    "#standard alias is 'pd' for importing pandas:\n",
    "\n",
    "import pandas as pd"
   ]
  },
  {
   "cell_type": "markdown",
   "metadata": {},
   "source": [
    "# Importing data with pandas from a file"
   ]
  },
  {
   "cell_type": "code",
   "execution_count": null,
   "metadata": {},
   "outputs": [],
   "source": []
  }
 ],
 "metadata": {
  "kernelspec": {
   "display_name": "Python 3",
   "language": "python",
   "name": "python3"
  },
  "language_info": {
   "codemirror_mode": {
    "name": "ipython",
    "version": 3
   },
   "file_extension": ".py",
   "mimetype": "text/x-python",
   "name": "python",
   "nbconvert_exporter": "python",
   "pygments_lexer": "ipython3",
   "version": "3.8.5"
  }
 },
 "nbformat": 4,
 "nbformat_minor": 4
}
